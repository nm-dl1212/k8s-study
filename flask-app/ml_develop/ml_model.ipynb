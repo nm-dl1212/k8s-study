{
 "cells": [
  {
   "cell_type": "code",
   "execution_count": 3,
   "metadata": {},
   "outputs": [
    {
     "data": {
      "text/plain": [
       "['../model.joblib']"
      ]
     },
     "execution_count": 3,
     "metadata": {},
     "output_type": "execute_result"
    }
   ],
   "source": [
    "from sklearn.linear_model import LinearRegression\n",
    "import joblib\n",
    "import numpy as np\n",
    "\n",
    "# サンプルデータ\n",
    "X = np.array([[i] for i in range(10)])\n",
    "y = np.array([2 * i + 1 for i in range(10)])\n",
    "\n",
    "# モデルのトレーニング\n",
    "model = LinearRegression()\n",
    "model.fit(X, y)\n",
    "\n",
    "# モデルの保存\n",
    "joblib.dump(model, '../model.joblib')\n"
   ]
  }
 ],
 "metadata": {
  "kernelspec": {
   "display_name": ".venv",
   "language": "python",
   "name": "python3"
  },
  "language_info": {
   "codemirror_mode": {
    "name": "ipython",
    "version": 3
   },
   "file_extension": ".py",
   "mimetype": "text/x-python",
   "name": "python",
   "nbconvert_exporter": "python",
   "pygments_lexer": "ipython3",
   "version": "3.10.12"
  }
 },
 "nbformat": 4,
 "nbformat_minor": 2
}
